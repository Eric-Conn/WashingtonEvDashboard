{
 "cells": [
  {
   "cell_type": "markdown",
   "id": "c785d425-b12b-4755-b2f6-1a30de1f71d6",
   "metadata": {},
   "source": [
    "# Washington State Electric Vehicle Dashboard\n",
    "\n",
    "For this dashboard we are going to plot the locations of vehicles registered with the Washington State Dmv."
   ]
  },
  {
   "cell_type": "markdown",
   "id": "211aa689-b1ad-4791-a2f5-17577afa3f0b",
   "metadata": {},
   "source": [
    "![title](picture.png)\n"
   ]
  }
 ],
 "metadata": {
  "kernelspec": {
   "display_name": "Python 3 (ipykernel)",
   "language": "python",
   "name": "python3"
  },
  "language_info": {
   "codemirror_mode": {
    "name": "ipython",
    "version": 3
   },
   "file_extension": ".py",
   "mimetype": "text/x-python",
   "name": "python",
   "nbconvert_exporter": "python",
   "pygments_lexer": "ipython3",
   "version": "3.8.19"
  }
 },
 "nbformat": 4,
 "nbformat_minor": 5
}
